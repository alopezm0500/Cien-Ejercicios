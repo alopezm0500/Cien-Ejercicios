{
 "cells": [
  {
   "cell_type": "code",
   "execution_count": 2,
   "id": "e0a2d52c",
   "metadata": {},
   "outputs": [
    {
     "name": "stdout",
     "output_type": "stream",
     "text": [
      "1 Francia 36.2\n",
      "Francia\n",
      "36.2\n"
     ]
    }
   ],
   "source": [
    "#1\n",
    "a=1\n",
    "b='Francia'\n",
    "c=36.2\n",
    "print(a,b,c)\n",
    "print(b)\n",
    "print(c)"
   ]
  },
  {
   "cell_type": "code",
   "execution_count": 3,
   "id": "df85c99d",
   "metadata": {},
   "outputs": [
    {
     "name": "stdout",
     "output_type": "stream",
     "text": [
      "esta bien\n"
     ]
    }
   ],
   "source": [
    "#2\n",
    "ch='hola'\n",
    "ch='esta bien'\n",
    "print(ch)"
   ]
  },
  {
   "cell_type": "code",
   "execution_count": 2,
   "id": "97ea153f",
   "metadata": {},
   "outputs": [
    {
     "name": "stdout",
     "output_type": "stream",
     "text": [
      "<class 'str'>\n",
      "<class 'str'>\n"
     ]
    }
   ],
   "source": [
    "#3\n",
    "x=3\n",
    "y=8.5\n",
    "x=str(x)\n",
    "y=str(y)\n",
    "print(type(x))\n",
    "print(type(y))\n"
   ]
  },
  {
   "cell_type": "code",
   "execution_count": 3,
   "id": "2f1b320d",
   "metadata": {},
   "outputs": [
    {
     "name": "stdout",
     "output_type": "stream",
     "text": [
      "Introduce tu peso en Kgs:90\n",
      "Tu peso es de  90 Kgs\n"
     ]
    }
   ],
   "source": [
    "#4\n",
    "peso=input(\"Introduce tu peso en Kgs:\")\n",
    "print(\"Tu peso es de \",peso,\"Kgs\")"
   ]
  },
  {
   "cell_type": "code",
   "execution_count": 9,
   "id": "19ba0f6b",
   "metadata": {},
   "outputs": [
    {
     "name": "stdout",
     "output_type": "stream",
     "text": [
      "Cadena de caracteres\n"
     ]
    }
   ],
   "source": [
    "#5\n",
    "var=\"Hola\"\n",
    "if type(var)==int:\n",
    "    print(\"Entero\")\n",
    "elif type(var)==str:\n",
    "    print(\"Cadena de caracteres\")\n",
    "else:\n",
    "    print(\"bye\")\n"
   ]
  },
  {
   "cell_type": "code",
   "execution_count": 10,
   "id": "4f8b788f",
   "metadata": {},
   "outputs": [
    {
     "name": "stdout",
     "output_type": "stream",
     "text": [
      "Positiva\n"
     ]
    }
   ],
   "source": [
    "#6\n",
    "d=5\n",
    "if d>=0:\n",
    "    print(\"Positiva\")\n",
    "else:\n",
    "    print(\"Negativa\")"
   ]
  },
  {
   "cell_type": "code",
   "execution_count": 12,
   "id": "649e50a4",
   "metadata": {},
   "outputs": [
    {
     "name": "stdout",
     "output_type": "stream",
     "text": [
      "�Cual es tu edad? 37\n",
      "El usuario es mayor de edad\n"
     ]
    }
   ],
   "source": [
    "#7\n",
    "edad=int(input(\"�Cual es tu edad? \"))\n",
    "if edad>=18:\n",
    "    print(\"El usuario es mayor de edad\")\n",
    "else:\n",
    "    print(\"El usuario es menor de edad\")\n"
   ]
  },
  {
   "cell_type": "code",
   "execution_count": 2,
   "id": "7bf88e75",
   "metadata": {},
   "outputs": [
    {
     "name": "stdout",
     "output_type": "stream",
     "text": [
      "1\n",
      "2\n",
      "3\n",
      "4\n",
      "5\n",
      "6\n",
      "7\n",
      "8\n",
      "9\n",
      "10\n",
      "11\n",
      "12\n",
      "13\n",
      "14\n",
      "15\n",
      "16\n",
      "17\n",
      "18\n",
      "19\n",
      "20\n",
      "1\n",
      "2\n",
      "3\n",
      "4\n",
      "5\n",
      "6\n",
      "7\n",
      "8\n",
      "9\n",
      "10\n",
      "11\n",
      "12\n",
      "13\n",
      "14\n",
      "15\n",
      "16\n",
      "17\n",
      "18\n",
      "19\n",
      "20\n"
     ]
    }
   ],
   "source": [
    "#8\n",
    "a=1\n",
    "b=1\n",
    "while a<=20:\n",
    "    print(a)\n",
    "    a += 1\n",
    "for b in range(1,21):\n",
    "    print(b)\n",
    "    b += 1\n"
   ]
  },
  {
   "cell_type": "code",
   "execution_count": 3,
   "id": "393b7526",
   "metadata": {},
   "outputs": [
    {
     "name": "stdout",
     "output_type": "stream",
     "text": [
      "Caso con For\n",
      "11\n",
      "13\n",
      "15\n",
      "17\n",
      "19\n",
      "Caso con While\n",
      "11\n",
      "13\n",
      "15\n",
      "17\n",
      "19\n"
     ]
    }
   ],
   "source": [
    "#9\n",
    "a=10\n",
    "b=10\n",
    "print(\"Caso con For\")\n",
    "for a in range(10,20):\n",
    "    if a%2==1:\n",
    "        print(a)\n",
    "    a+=1\n",
    "print(\"Caso con While\")\n",
    "while b<=20:\n",
    "    if b%2==1:\n",
    "        print(b)\n",
    "    b+=1"
   ]
  },
  {
   "cell_type": "code",
   "execution_count": 7,
   "id": "51f97503",
   "metadata": {},
   "outputs": [
    {
     "name": "stdout",
     "output_type": "stream",
     "text": [
      "[1, 2, 3, 4, 5, 6, 7, 8, 9, 10]\n"
     ]
    }
   ],
   "source": [
    "#10\n",
    "num=[i for i in range(1,11)]\n",
    "print(num)"
   ]
  },
  {
   "cell_type": "code",
   "execution_count": 2,
   "id": "cfbc9ab1",
   "metadata": {},
   "outputs": [
    {
     "name": "stdout",
     "output_type": "stream",
     "text": [
      "[2, 4, 6, 8, 10]\n"
     ]
    }
   ],
   "source": [
    "#11\n",
    "par=[i for i in range(1,11) if i%2==0]\n",
    "print(par)"
   ]
  },
  {
   "cell_type": "code",
   "execution_count": 5,
   "id": "ad6cf580",
   "metadata": {},
   "outputs": [
    {
     "name": "stdout",
     "output_type": "stream",
     "text": [
      "[1, 2, 3, 4, 6, 8, 9.2, 12]\n"
     ]
    }
   ],
   "source": [
    "#12\n",
    "L=[6,8,3,4,1,12,2,9.2]\n",
    "L.sort()\n",
    "print (L)"
   ]
  },
  {
   "cell_type": "code",
   "execution_count": 9,
   "id": "b369c934",
   "metadata": {},
   "outputs": [
    {
     "name": "stdout",
     "output_type": "stream",
     "text": [
      "2\n"
     ]
    }
   ],
   "source": [
    "#13\n",
    "L=[3,2,2,1,9,1,2,3,7]\n",
    "a=L.count(1)\n",
    "print(a)"
   ]
  },
  {
   "cell_type": "code",
   "execution_count": 13,
   "id": "28e195f0",
   "metadata": {},
   "outputs": [
    {
     "name": "stdout",
     "output_type": "stream",
     "text": [
      "[10, 25, 30, 45, 90, 'ab', 'cd', 'ef']\n",
      "[10, 25, 30, 'ab', 'cd']\n"
     ]
    }
   ],
   "source": [
    "#14\n",
    "L=[]\n",
    "L2=[]\n",
    "L+=[10,25,30,45,90,\"ab\",\"cd\",\"ef\"]\n",
    "print(L)\n",
    "\n",
    "added=[10,25,30,\"ab\",\"cd\"]\n",
    "for e in added:\n",
    "    L2.append(e)\n",
    "print(L2)\n"
   ]
  },
  {
   "cell_type": "code",
   "execution_count": null,
   "id": "aa2463d2",
   "metadata": {},
   "outputs": [],
   "source": []
  }
 ],
 "metadata": {
  "kernelspec": {
   "display_name": "Python 3",
   "language": "python",
   "name": "python3"
  },
  "language_info": {
   "codemirror_mode": {
    "name": "ipython",
    "version": 3
   },
   "file_extension": ".py",
   "mimetype": "text/x-python",
   "name": "python",
   "nbconvert_exporter": "python",
   "pygments_lexer": "ipython3",
   "version": "3.11.2"
  },
  "widgets": {
   "application/vnd.jupyter.widget-state+json": {
    "state": {},
    "version_major": 2,
    "version_minor": 0
   }
  }
 },
 "nbformat": 4,
 "nbformat_minor": 5
}
